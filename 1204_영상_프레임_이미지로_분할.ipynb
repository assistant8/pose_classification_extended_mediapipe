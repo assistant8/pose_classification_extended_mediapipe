{
  "nbformat": 4,
  "nbformat_minor": 0,
  "metadata": {
    "colab": {
      "provenance": [],
      "authorship_tag": "ABX9TyO2+ZRXG032PYqi6lGto2ss",
      "include_colab_link": true
    },
    "kernelspec": {
      "name": "python3",
      "display_name": "Python 3"
    },
    "language_info": {
      "name": "python"
    }
  },
  "cells": [
    {
      "cell_type": "markdown",
      "metadata": {
        "id": "view-in-github",
        "colab_type": "text"
      },
      "source": [
        "<a href=\"https://colab.research.google.com/github/assistant8/pose_classification_extended_mediapipe/blob/main/1204_%EC%98%81%EC%83%81_%ED%94%84%EB%A0%88%EC%9E%84_%EC%9D%B4%EB%AF%B8%EC%A7%80%EB%A1%9C_%EB%B6%84%ED%95%A0.ipynb\" target=\"_parent\"><img src=\"https://colab.research.google.com/assets/colab-badge.svg\" alt=\"Open In Colab\"/></a>"
      ]
    },
    {
      "cell_type": "code",
      "execution_count": 6,
      "metadata": {
        "colab": {
          "base_uri": "https://localhost:8080/"
        },
        "id": "cGm-QSAgS3je",
        "outputId": "8fb354f4-a8fc-408c-c156-51c9be360b49"
      },
      "outputs": [
        {
          "output_type": "stream",
          "name": "stdout",
          "text": [
            "/content/22.mp4\n"
          ]
        }
      ],
      "source": [
        "import cv2\n",
        "import os\n",
        "\n",
        "video_path2 = os.path.join('/content/22.mp4')\n",
        "print(video_path2)\n",
        "\n",
        "video_cap2 = cv2.VideoCapture(video_path2)\n",
        "\n",
        "# Get some video parameters to generate output video with classificaiton.  - 이건 위 업로드 영상 정보 가져오는 것 뿐\n",
        "video_n_frames2 = video_cap2.get(cv2.CAP_PROP_FRAME_COUNT)\n",
        "video_fps2 = video_cap2.get(cv2.CAP_PROP_FPS) \n",
        "video_width2 = int(video_cap2.get(cv2.CAP_PROP_FRAME_WIDTH))\n",
        "video_height2 = int(video_cap2.get(cv2.CAP_PROP_FRAME_HEIGHT))"
      ]
    },
    {
      "cell_type": "code",
      "source": [
        "print(\"length :\", video_n_frames2)\n",
        "print(\"width :\", video_fps2)\n",
        "print(\"height :\", video_width2)\n",
        "print(\"fps :\", video_height2)"
      ],
      "metadata": {
        "colab": {
          "base_uri": "https://localhost:8080/"
        },
        "id": "U_DvtLAocnvN",
        "outputId": "b9e2dbe1-c205-4688-c20a-db7029bdeeda"
      },
      "execution_count": 7,
      "outputs": [
        {
          "output_type": "stream",
          "name": "stdout",
          "text": [
            "length : 124.0\n",
            "width : 28.484574683951394\n",
            "height : 1920\n",
            "fps : 1080\n"
          ]
        }
      ]
    },
    {
      "cell_type": "code",
      "source": [
        "#프레임을 저장할 디렉토리를 생성\n",
        "try:\n",
        "    if not os.path.exists('/content/frame'):\n",
        "        os.makedirs('/content/frame')\n",
        "except OSError:\n",
        "    print ('Error: Creating directory. ' +  filepath[:-4])"
      ],
      "metadata": {
        "id": "AG1w5KxFcn1H"
      },
      "execution_count": 8,
      "outputs": []
    },
    {
      "cell_type": "code",
      "source": [
        "count = 0\n",
        "while(video_cap2.isOpened()):\n",
        "    ret, image = video_cap2.read()\n",
        "    if(int(video_cap2.get(1)) % 50 == 0): #앞서 불러온 fps를 이용해 전체 프레임의 1/50만 가져옴\n",
        "        cv2.imwrite('/content/frame' + \"/frame%d.jpg\" % count, image)\n",
        "        print('Saved frame number :', str(int(video_cap2.get(1))))\n",
        "        count += 1\n",
        "    # 비디오 멈춤 조건 필요\n",
        "        \n",
        "video_cap2.release()"
      ],
      "metadata": {
        "colab": {
          "base_uri": "https://localhost:8080/",
          "height": 282
        },
        "id": "NHKThCDicn4W",
        "outputId": "b346fd69-d28a-4502-cc34-18ce471f0c30"
      },
      "execution_count": 9,
      "outputs": [
        {
          "output_type": "stream",
          "name": "stdout",
          "text": [
            "Saved frame number : 50\n",
            "Saved frame number : 100\n"
          ]
        },
        {
          "output_type": "error",
          "ename": "KeyboardInterrupt",
          "evalue": "ignored",
          "traceback": [
            "\u001b[0;31m---------------------------------------------------------------------------\u001b[0m",
            "\u001b[0;31mKeyboardInterrupt\u001b[0m                         Traceback (most recent call last)",
            "\u001b[0;32m<ipython-input-9-75aec77b5354>\u001b[0m in \u001b[0;36m<module>\u001b[0;34m\u001b[0m\n\u001b[1;32m      1\u001b[0m \u001b[0mcount\u001b[0m \u001b[0;34m=\u001b[0m \u001b[0;36m0\u001b[0m\u001b[0;34m\u001b[0m\u001b[0;34m\u001b[0m\u001b[0m\n\u001b[1;32m      2\u001b[0m \u001b[0;32mwhile\u001b[0m\u001b[0;34m(\u001b[0m\u001b[0mvideo_cap2\u001b[0m\u001b[0;34m.\u001b[0m\u001b[0misOpened\u001b[0m\u001b[0;34m(\u001b[0m\u001b[0;34m)\u001b[0m\u001b[0;34m)\u001b[0m\u001b[0;34m:\u001b[0m\u001b[0;34m\u001b[0m\u001b[0;34m\u001b[0m\u001b[0m\n\u001b[0;32m----> 3\u001b[0;31m     \u001b[0mret\u001b[0m\u001b[0;34m,\u001b[0m \u001b[0mimage\u001b[0m \u001b[0;34m=\u001b[0m \u001b[0mvideo_cap2\u001b[0m\u001b[0;34m.\u001b[0m\u001b[0mread\u001b[0m\u001b[0;34m(\u001b[0m\u001b[0;34m)\u001b[0m\u001b[0;34m\u001b[0m\u001b[0;34m\u001b[0m\u001b[0m\n\u001b[0m\u001b[1;32m      4\u001b[0m     \u001b[0;32mif\u001b[0m\u001b[0;34m(\u001b[0m\u001b[0mint\u001b[0m\u001b[0;34m(\u001b[0m\u001b[0mvideo_cap2\u001b[0m\u001b[0;34m.\u001b[0m\u001b[0mget\u001b[0m\u001b[0;34m(\u001b[0m\u001b[0;36m1\u001b[0m\u001b[0;34m)\u001b[0m\u001b[0;34m)\u001b[0m \u001b[0;34m%\u001b[0m \u001b[0;36m50\u001b[0m \u001b[0;34m==\u001b[0m \u001b[0;36m0\u001b[0m\u001b[0;34m)\u001b[0m\u001b[0;34m:\u001b[0m \u001b[0;31m#앞서 불러온 fps를 이용해 전체 프레임의 1/50만 가져옴\u001b[0m\u001b[0;34m\u001b[0m\u001b[0;34m\u001b[0m\u001b[0m\n\u001b[1;32m      5\u001b[0m         \u001b[0mcv2\u001b[0m\u001b[0;34m.\u001b[0m\u001b[0mimwrite\u001b[0m\u001b[0;34m(\u001b[0m\u001b[0;34m'/content/frame'\u001b[0m \u001b[0;34m+\u001b[0m \u001b[0;34m\"/frame%d.jpg\"\u001b[0m \u001b[0;34m%\u001b[0m \u001b[0mcount\u001b[0m\u001b[0;34m,\u001b[0m \u001b[0mimage\u001b[0m\u001b[0;34m)\u001b[0m\u001b[0;34m\u001b[0m\u001b[0;34m\u001b[0m\u001b[0m\n",
            "\u001b[0;31mKeyboardInterrupt\u001b[0m: "
          ]
        }
      ]
    },
    {
      "cell_type": "code",
      "source": [],
      "metadata": {
        "id": "PXY-Y-Jpcn7A"
      },
      "execution_count": null,
      "outputs": []
    }
  ]
}